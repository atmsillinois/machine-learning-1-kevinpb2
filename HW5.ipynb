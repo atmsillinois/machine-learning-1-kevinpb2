{
 "cells": [
  {
   "cell_type": "code",
   "execution_count": 1,
   "metadata": {},
   "outputs": [],
   "source": [
    "import pandas as pd\n",
    "import numpy as np\n",
    "from sklearn.model_selection import train_test_split\n",
    "from sklearn.linear_model import LinearRegression\n",
    "from sklearn.metrics import mean_squared_error, r2_score\n",
    "from sklearn.model_selection import GridSearchCV\n",
    "from sklearn.model_selection import RandomizedSearchCV\n",
    "from sklearn.preprocessing import PolynomialFeatures\n",
    "from sklearn.pipeline import make_pipeline\n",
    "from sklearn.ensemble import RandomForestRegressor"
   ]
  },
  {
   "cell_type": "markdown",
   "metadata": {},
   "source": [
    "### Part 1:\n",
    "- Split the data into a 70-30 split for training and testing data. "
   ]
  },
  {
   "cell_type": "code",
   "execution_count": 2,
   "metadata": {},
   "outputs": [],
   "source": [
    "# open the dataset and see its contents\n",
    "PATH = '/Users/planetkevin/Assignments/ATMS523/HW5/machine-learning-1-kevinpb2/homework/'\n",
    "dat = pd.read_csv('radar_parameters.csv', index_col=0)"
   ]
  },
  {
   "cell_type": "code",
   "execution_count": 3,
   "metadata": {},
   "outputs": [
    {
     "data": {
      "text/html": [
       "<div>\n",
       "<style scoped>\n",
       "    .dataframe tbody tr th:only-of-type {\n",
       "        vertical-align: middle;\n",
       "    }\n",
       "\n",
       "    .dataframe tbody tr th {\n",
       "        vertical-align: top;\n",
       "    }\n",
       "\n",
       "    .dataframe thead th {\n",
       "        text-align: right;\n",
       "    }\n",
       "</style>\n",
       "<table border=\"1\" class=\"dataframe\">\n",
       "  <thead>\n",
       "    <tr style=\"text-align: right;\">\n",
       "      <th></th>\n",
       "      <th>Zh (dBZ)</th>\n",
       "      <th>Zdr (dB)</th>\n",
       "      <th>Ldr (dB)</th>\n",
       "      <th>Kdp (deg km-1)</th>\n",
       "      <th>Ah (dBZ/km)</th>\n",
       "      <th>Adr (dB/km)</th>\n",
       "      <th>R (mm/hr)</th>\n",
       "    </tr>\n",
       "  </thead>\n",
       "  <tbody>\n",
       "    <tr>\n",
       "      <th>0</th>\n",
       "      <td>23.144878</td>\n",
       "      <td>0.418637</td>\n",
       "      <td>-41.757733</td>\n",
       "      <td>0.005395</td>\n",
       "      <td>0.000290</td>\n",
       "      <td>0.000012</td>\n",
       "      <td>2.393520</td>\n",
       "    </tr>\n",
       "    <tr>\n",
       "      <th>1</th>\n",
       "      <td>22.737156</td>\n",
       "      <td>0.322850</td>\n",
       "      <td>-43.772069</td>\n",
       "      <td>0.005194</td>\n",
       "      <td>0.000360</td>\n",
       "      <td>0.000012</td>\n",
       "      <td>3.502699</td>\n",
       "    </tr>\n",
       "    <tr>\n",
       "      <th>2</th>\n",
       "      <td>26.869826</td>\n",
       "      <td>0.330948</td>\n",
       "      <td>-43.577399</td>\n",
       "      <td>0.013385</td>\n",
       "      <td>0.000903</td>\n",
       "      <td>0.000030</td>\n",
       "      <td>8.627561</td>\n",
       "    </tr>\n",
       "    <tr>\n",
       "      <th>3</th>\n",
       "      <td>28.540561</td>\n",
       "      <td>0.399480</td>\n",
       "      <td>-42.139731</td>\n",
       "      <td>0.018872</td>\n",
       "      <td>0.001036</td>\n",
       "      <td>0.000043</td>\n",
       "      <td>8.424447</td>\n",
       "    </tr>\n",
       "    <tr>\n",
       "      <th>4</th>\n",
       "      <td>30.500127</td>\n",
       "      <td>0.543758</td>\n",
       "      <td>-39.763087</td>\n",
       "      <td>0.027438</td>\n",
       "      <td>0.001157</td>\n",
       "      <td>0.000064</td>\n",
       "      <td>8.189291</td>\n",
       "    </tr>\n",
       "    <tr>\n",
       "      <th>...</th>\n",
       "      <td>...</td>\n",
       "      <td>...</td>\n",
       "      <td>...</td>\n",
       "      <td>...</td>\n",
       "      <td>...</td>\n",
       "      <td>...</td>\n",
       "      <td>...</td>\n",
       "    </tr>\n",
       "    <tr>\n",
       "      <th>18964</th>\n",
       "      <td>31.515997</td>\n",
       "      <td>0.579955</td>\n",
       "      <td>-39.244229</td>\n",
       "      <td>0.034048</td>\n",
       "      <td>0.001417</td>\n",
       "      <td>0.000080</td>\n",
       "      <td>10.648020</td>\n",
       "    </tr>\n",
       "    <tr>\n",
       "      <th>18965</th>\n",
       "      <td>29.993334</td>\n",
       "      <td>0.567935</td>\n",
       "      <td>-39.399188</td>\n",
       "      <td>0.024134</td>\n",
       "      <td>0.001032</td>\n",
       "      <td>0.000057</td>\n",
       "      <td>7.981875</td>\n",
       "    </tr>\n",
       "    <tr>\n",
       "      <th>18966</th>\n",
       "      <td>31.685913</td>\n",
       "      <td>0.655681</td>\n",
       "      <td>-38.375696</td>\n",
       "      <td>0.033971</td>\n",
       "      <td>0.001165</td>\n",
       "      <td>0.000081</td>\n",
       "      <td>6.822691</td>\n",
       "    </tr>\n",
       "    <tr>\n",
       "      <th>18967</th>\n",
       "      <td>32.980096</td>\n",
       "      <td>0.768586</td>\n",
       "      <td>-37.166218</td>\n",
       "      <td>0.043117</td>\n",
       "      <td>0.001285</td>\n",
       "      <td>0.000105</td>\n",
       "      <td>6.801169</td>\n",
       "    </tr>\n",
       "    <tr>\n",
       "      <th>18968</th>\n",
       "      <td>28.731399</td>\n",
       "      <td>0.804155</td>\n",
       "      <td>-36.795913</td>\n",
       "      <td>0.015908</td>\n",
       "      <td>0.000469</td>\n",
       "      <td>0.000039</td>\n",
       "      <td>2.582440</td>\n",
       "    </tr>\n",
       "  </tbody>\n",
       "</table>\n",
       "<p>18969 rows × 7 columns</p>\n",
       "</div>"
      ],
      "text/plain": [
       "        Zh (dBZ)  Zdr (dB)   Ldr (dB)  Kdp (deg km-1)  Ah (dBZ/km)  \\\n",
       "0      23.144878  0.418637 -41.757733        0.005395     0.000290   \n",
       "1      22.737156  0.322850 -43.772069        0.005194     0.000360   \n",
       "2      26.869826  0.330948 -43.577399        0.013385     0.000903   \n",
       "3      28.540561  0.399480 -42.139731        0.018872     0.001036   \n",
       "4      30.500127  0.543758 -39.763087        0.027438     0.001157   \n",
       "...          ...       ...        ...             ...          ...   \n",
       "18964  31.515997  0.579955 -39.244229        0.034048     0.001417   \n",
       "18965  29.993334  0.567935 -39.399188        0.024134     0.001032   \n",
       "18966  31.685913  0.655681 -38.375696        0.033971     0.001165   \n",
       "18967  32.980096  0.768586 -37.166218        0.043117     0.001285   \n",
       "18968  28.731399  0.804155 -36.795913        0.015908     0.000469   \n",
       "\n",
       "       Adr (dB/km)  R (mm/hr)  \n",
       "0         0.000012   2.393520  \n",
       "1         0.000012   3.502699  \n",
       "2         0.000030   8.627561  \n",
       "3         0.000043   8.424447  \n",
       "4         0.000064   8.189291  \n",
       "...            ...        ...  \n",
       "18964     0.000080  10.648020  \n",
       "18965     0.000057   7.981875  \n",
       "18966     0.000081   6.822691  \n",
       "18967     0.000105   6.801169  \n",
       "18968     0.000039   2.582440  \n",
       "\n",
       "[18969 rows x 7 columns]"
      ]
     },
     "execution_count": 3,
     "metadata": {},
     "output_type": "execute_result"
    }
   ],
   "source": [
    "dat"
   ]
  },
  {
   "cell_type": "markdown",
   "metadata": {},
   "source": [
    "The dataset contains radar parameters that we'll consider features. The goal is construct a model that uses these features to effectively predict our target variable, rain rate. "
   ]
  },
  {
   "cell_type": "code",
   "execution_count": 4,
   "metadata": {},
   "outputs": [],
   "source": [
    "Xcol = dat.columns[:-1]\n",
    "Ycol = dat.columns[-1]\n",
    "\n",
    "X = dat[Xcol]\n",
    "Y = dat[Ycol]\n",
    "\n",
    "# use sci-kit learn to seperate our dataset into training and testing datasets\n",
    "Xtrain, Xtest, Ytrain, Ytest = train_test_split(X, Y, train_size=0.7)"
   ]
  },
  {
   "cell_type": "markdown",
   "metadata": {},
   "source": [
    "### Part 2:\n",
    "- Using the previously created split, train a multiple linear regression model, and validate it using the testing dataset. \n",
    "- Compare the $R^{2}$ and $RMSE$ on the training and testing dataset to a prediction of rain rate based on the formula $Z = 200R^{1.6}$"
   ]
  },
  {
   "cell_type": "code",
   "execution_count": 5,
   "metadata": {},
   "outputs": [],
   "source": [
    "# training the model\n",
    "model = LinearRegression(fit_intercept=True)\n",
    "model.fit(Xtrain, Ytrain)\n",
    "\n",
    "# model fitting on training dataset\n",
    "Ytrain_fit = model.predict(Xtrain)"
   ]
  },
  {
   "cell_type": "code",
   "execution_count": 6,
   "metadata": {},
   "outputs": [
    {
     "name": "stdout",
     "output_type": "stream",
     "text": [
      "Model Performance: Training Data\n",
      "RMSE:  0.92\n",
      "R²:  0.989\n"
     ]
    }
   ],
   "source": [
    "# briefly evaluating model performance\n",
    "print('Model Performance: Training Data')\n",
    "print('RMSE: ', np.round(mean_squared_error(Ytrain, Ytrain_fit, squared=False),2))\n",
    "print('R\\u00b2: ', np.round(r2_score(Ytrain, Ytrain_fit), 3))"
   ]
  },
  {
   "cell_type": "code",
   "execution_count": 7,
   "metadata": {},
   "outputs": [
    {
     "name": "stdout",
     "output_type": "stream",
     "text": [
      "Model Performance: Testing Data\n",
      "RMSE:  0.94\n",
      "R²:  0.987\n"
     ]
    }
   ],
   "source": [
    "# validating with the testing set\n",
    "Ypred = model.predict(Xtest)\n",
    "\n",
    "# evaluating skill\n",
    "print('Model Performance: Testing Data')\n",
    "print('RMSE: ', np.round(mean_squared_error(Ypred, Ytest, squared=False),2))\n",
    "print('R\\u00b2: ', np.round(r2_score(Ypred, Ytest), 3))"
   ]
  },
  {
   "cell_type": "markdown",
   "metadata": {},
   "source": [
    "The model is capable of both representing the training dataset and predicting the testing dataset well. "
   ]
  },
  {
   "cell_type": "code",
   "execution_count": 8,
   "metadata": {},
   "outputs": [],
   "source": [
    "# producing the predictions based on the empirical relationship\n",
    "def RR(dBZ):\n",
    "    \"\"\"\n",
    "    The formula for dBZ: dBZ = 10log(z)\n",
    "    The formula for Z: 200R^{1.6}\n",
    "    After solving, R is given by: R = 0.036*10^{0.0625Z}\n",
    "    \"\"\"\n",
    "    RR = 0.036*10**(0.0625*dBZ)\n",
    "    return RR\n",
    "\n",
    "dat['MP_R (mm/hr)'] = RR(dat['Zh (dBZ)'])"
   ]
  },
  {
   "cell_type": "code",
   "execution_count": 9,
   "metadata": {},
   "outputs": [
    {
     "name": "stdout",
     "output_type": "stream",
     "text": [
      "Performance: Marshall-Palmer Relationship\n",
      "RMSE:  7.0\n",
      "R²:  0.265\n"
     ]
    }
   ],
   "source": [
    "# evaluating skill of the empirical relationship on the testing data\n",
    "tindices = list(Ytest.index)\n",
    "\n",
    "print('Performance: Marshall-Palmer Relationship')\n",
    "print('RMSE: ', np.round(mean_squared_error(Ytest, dat['MP_R (mm/hr)'].loc[tindices], squared=False), 2))\n",
    "print('R\\u00b2: ', np.round(r2_score(Ytest, dat['MP_R (mm/hr)'].loc[tindices]), 3))"
   ]
  },
  {
   "cell_type": "markdown",
   "metadata": {},
   "source": [
    "It is clear that the MLR model we developed is more skillful at predicting rain rate than the Marshall-Palmer relationship. "
   ]
  },
  {
   "cell_type": "markdown",
   "metadata": {},
   "source": [
    "### Part 3: \n",
    "- Do a grid search over polynomial orders (from 0-21) and use cross-validation of 7 folds. \n",
    "- Choose the best performing polynomial model and evaluate its performance. \n",
    "- Compare its performance to prior model formulations. "
   ]
  },
  {
   "cell_type": "code",
   "execution_count": 10,
   "metadata": {},
   "outputs": [],
   "source": [
    "# preparing the polynomial model\n",
    "def PolynomialRegression(degree=0):\n",
    "    return make_pipeline(PolynomialFeatures(degree),\n",
    "                         LinearRegression(fit_intercept=True))\n",
    "\n",
    "params = {'polynomialfeatures__degree': np.arange(7)}\n",
    "\n",
    "grid_poly = GridSearchCV(PolynomialRegression(), params, cv=7)"
   ]
  },
  {
   "cell_type": "code",
   "execution_count": 11,
   "metadata": {},
   "outputs": [
    {
     "name": "stderr",
     "output_type": "stream",
     "text": [
      "/glade/u/apps/opt/conda/envs/npl/lib/python3.7/site-packages/sklearn/model_selection/_validation.py:372: FitFailedWarning: \n",
      "7 fits failed out of a total of 49.\n",
      "The score on these train-test partitions for these parameters will be set to nan.\n",
      "If these failures are not expected, you can try to debug them by setting error_score='raise'.\n",
      "\n",
      "Below are more details about the failures:\n",
      "--------------------------------------------------------------------------------\n",
      "6 fits failed with the following error:\n",
      "Traceback (most recent call last):\n",
      "  File \"/glade/u/apps/opt/conda/envs/npl/lib/python3.7/site-packages/sklearn/model_selection/_validation.py\", line 680, in _fit_and_score\n",
      "    estimator.fit(X_train, y_train, **fit_params)\n",
      "  File \"/glade/u/apps/opt/conda/envs/npl/lib/python3.7/site-packages/sklearn/pipeline.py\", line 390, in fit\n",
      "    Xt = self._fit(X, y, **fit_params_steps)\n",
      "  File \"/glade/u/apps/opt/conda/envs/npl/lib/python3.7/site-packages/sklearn/pipeline.py\", line 355, in _fit\n",
      "    **fit_params_steps[name],\n",
      "  File \"/glade/u/apps/opt/conda/envs/npl/lib/python3.7/site-packages/joblib/memory.py\", line 349, in __call__\n",
      "    return self.func(*args, **kwargs)\n",
      "  File \"/glade/u/apps/opt/conda/envs/npl/lib/python3.7/site-packages/sklearn/pipeline.py\", line 893, in _fit_transform_one\n",
      "    res = transformer.fit_transform(X, y, **fit_params)\n",
      "  File \"/glade/u/apps/opt/conda/envs/npl/lib/python3.7/site-packages/sklearn/base.py\", line 855, in fit_transform\n",
      "    return self.fit(X, y, **fit_params).transform(X)\n",
      "  File \"/glade/u/apps/opt/conda/envs/npl/lib/python3.7/site-packages/sklearn/preprocessing/_polynomial.py\", line 446, in transform\n",
      "    XP[:, current_col : current_col + n_features] = X\n",
      "ValueError: could not broadcast input array from shape (11381,6) into shape (11381,0)\n",
      "\n",
      "--------------------------------------------------------------------------------\n",
      "1 fits failed with the following error:\n",
      "Traceback (most recent call last):\n",
      "  File \"/glade/u/apps/opt/conda/envs/npl/lib/python3.7/site-packages/sklearn/model_selection/_validation.py\", line 680, in _fit_and_score\n",
      "    estimator.fit(X_train, y_train, **fit_params)\n",
      "  File \"/glade/u/apps/opt/conda/envs/npl/lib/python3.7/site-packages/sklearn/pipeline.py\", line 390, in fit\n",
      "    Xt = self._fit(X, y, **fit_params_steps)\n",
      "  File \"/glade/u/apps/opt/conda/envs/npl/lib/python3.7/site-packages/sklearn/pipeline.py\", line 355, in _fit\n",
      "    **fit_params_steps[name],\n",
      "  File \"/glade/u/apps/opt/conda/envs/npl/lib/python3.7/site-packages/joblib/memory.py\", line 349, in __call__\n",
      "    return self.func(*args, **kwargs)\n",
      "  File \"/glade/u/apps/opt/conda/envs/npl/lib/python3.7/site-packages/sklearn/pipeline.py\", line 893, in _fit_transform_one\n",
      "    res = transformer.fit_transform(X, y, **fit_params)\n",
      "  File \"/glade/u/apps/opt/conda/envs/npl/lib/python3.7/site-packages/sklearn/base.py\", line 855, in fit_transform\n",
      "    return self.fit(X, y, **fit_params).transform(X)\n",
      "  File \"/glade/u/apps/opt/conda/envs/npl/lib/python3.7/site-packages/sklearn/preprocessing/_polynomial.py\", line 446, in transform\n",
      "    XP[:, current_col : current_col + n_features] = X\n",
      "ValueError: could not broadcast input array from shape (11382,6) into shape (11382,0)\n",
      "\n",
      "  warnings.warn(some_fits_failed_message, FitFailedWarning)\n",
      "/glade/u/apps/opt/conda/envs/npl/lib/python3.7/site-packages/sklearn/model_selection/_search.py:972: UserWarning: One or more of the test scores are non-finite: [       nan 0.98735974 0.99876862 0.99707052 0.7252114  0.98056735\n",
      " 0.99729324]\n",
      "  category=UserWarning,\n"
     ]
    },
    {
     "data": {
      "text/plain": [
       "GridSearchCV(cv=7,\n",
       "             estimator=Pipeline(steps=[('polynomialfeatures',\n",
       "                                        PolynomialFeatures(degree=0)),\n",
       "                                       ('linearregression',\n",
       "                                        LinearRegression())]),\n",
       "             param_grid={'polynomialfeatures__degree': array([0, 1, 2, 3, 4, 5, 6])})"
      ]
     },
     "execution_count": 11,
     "metadata": {},
     "output_type": "execute_result"
    }
   ],
   "source": [
    "# fit the model\n",
    "grid_poly.fit(Xtrain, Ytrain)"
   ]
  },
  {
   "cell_type": "code",
   "execution_count": 12,
   "metadata": {},
   "outputs": [
    {
     "name": "stdout",
     "output_type": "stream",
     "text": [
      "{'polynomialfeatures__degree': 2}\n"
     ]
    }
   ],
   "source": [
    "# the best performing polynomial model\n",
    "print(grid_poly.best_params_)\n",
    "poly_model = grid_poly.best_estimator_"
   ]
  },
  {
   "cell_type": "code",
   "execution_count": 13,
   "metadata": {},
   "outputs": [
    {
     "name": "stdout",
     "output_type": "stream",
     "text": [
      "Performance: Polynomial Model\n",
      "RMSE:  0.19\n",
      "R²:  0.999\n"
     ]
    }
   ],
   "source": [
    "Ypred_poly = poly_model.predict(Xtest)\n",
    "\n",
    "# evaluate the polynomial model performance\n",
    "print('Performance: Polynomial Model')\n",
    "print('RMSE: ', np.round(mean_squared_error(Ypred_poly, Ytest, squared=False),2))\n",
    "print('R\\u00b2: ', np.round(r2_score(Ypred_poly, Ytest), 3))"
   ]
  },
  {
   "cell_type": "markdown",
   "metadata": {},
   "source": [
    "The best performing iteration of the polynomial model (of order 2) outperforms the multiple linear regression and empirical models. "
   ]
  },
  {
   "cell_type": "markdown",
   "metadata": {},
   "source": [
    "### Part 4:\n",
    "- Repeat the previous step using Random Forest Regression."
   ]
  },
  {
   "cell_type": "code",
   "execution_count": 14,
   "metadata": {},
   "outputs": [],
   "source": [
    "# we're perform a grid search on the following parameters\n",
    "params = {'bootstrap': [True, False],  \n",
    "          'max_depth': [10, 20, 30, 40, 50, 60, 70, 80, 90, 100, None],  \n",
    "          'max_features': ['auto', 'sqrt'],  \n",
    "          'min_samples_leaf': [1, 2, 4],  \n",
    "          'min_samples_split': [2, 5, 10],  \n",
    "          'n_estimators': [200, 400, 600, 800, 1000, 1200, 1400, 1600, 1800, 2000]}\n",
    "\n",
    "# prepare the model\n",
    "grid_forest = RandomizedSearchCV(RandomForestRegressor(), params, cv=7, n_jobs=-1, n_iter=100)"
   ]
  },
  {
   "cell_type": "code",
   "execution_count": 15,
   "metadata": {},
   "outputs": [
    {
     "name": "stderr",
     "output_type": "stream",
     "text": [
      "/glade/u/apps/opt/conda/envs/npl/lib/python3.7/site-packages/joblib/externals/loky/process_executor.py:705: UserWarning: A worker stopped while some jobs were given to the executor. This can be caused by a too short worker timeout or by a memory leak.\n",
      "  \"timeout or by a memory leak.\", UserWarning\n"
     ]
    },
    {
     "data": {
      "text/plain": [
       "RandomizedSearchCV(cv=7, estimator=RandomForestRegressor(), n_iter=100,\n",
       "                   n_jobs=-1,\n",
       "                   param_distributions={'bootstrap': [True, False],\n",
       "                                        'max_depth': [10, 20, 30, 40, 50, 60,\n",
       "                                                      70, 80, 90, 100, None],\n",
       "                                        'max_features': ['auto', 'sqrt'],\n",
       "                                        'min_samples_leaf': [1, 2, 4],\n",
       "                                        'min_samples_split': [2, 5, 10],\n",
       "                                        'n_estimators': [200, 400, 600, 800,\n",
       "                                                         1000, 1200, 1400, 1600,\n",
       "                                                         1800, 2000]})"
      ]
     },
     "execution_count": 15,
     "metadata": {},
     "output_type": "execute_result"
    }
   ],
   "source": [
    "grid_forest.fit(Xtrain,Ytrain)"
   ]
  },
  {
   "cell_type": "code",
   "execution_count": 16,
   "metadata": {},
   "outputs": [
    {
     "name": "stdout",
     "output_type": "stream",
     "text": [
      "{'n_estimators': 1800, 'min_samples_split': 2, 'min_samples_leaf': 1, 'max_features': 'auto', 'max_depth': 90, 'bootstrap': True}\n"
     ]
    }
   ],
   "source": [
    "# the best performing model formulation\n",
    "print(grid_forest.best_params_)\n",
    "forest_model = grid_forest.best_estimator_"
   ]
  },
  {
   "cell_type": "code",
   "execution_count": 17,
   "metadata": {},
   "outputs": [
    {
     "name": "stdout",
     "output_type": "stream",
     "text": [
      "Performance: Random Forest Regression\n",
      "RMSE:  0.96\n",
      "R²:  0.986\n"
     ]
    }
   ],
   "source": [
    "Ypred_forest = forest_model.predict(Xtest)\n",
    "\n",
    "# evaluate the polynomial model performance\n",
    "print('Performance: Random Forest Regression')\n",
    "print('RMSE: ', np.round(mean_squared_error(Ypred_forest, Ytest, squared=False),2))\n",
    "print('R\\u00b2: ', np.round(r2_score(Ypred_forest, Ytest), 3))"
   ]
  },
  {
   "cell_type": "markdown",
   "metadata": {},
   "source": [
    "The second order polynomial model outperforms the best-performing iteration of the Random Forest regression model, but the Random Forest regression model outperforms the empirical model (baseline) and multiple linear regression model. "
   ]
  }
 ],
 "metadata": {
  "kernelspec": {
   "display_name": "NPL (conda)",
   "language": "python",
   "name": "npl-conda"
  },
  "language_info": {
   "codemirror_mode": {
    "name": "ipython",
    "version": 3
   },
   "file_extension": ".py",
   "mimetype": "text/x-python",
   "name": "python",
   "nbconvert_exporter": "python",
   "pygments_lexer": "ipython3",
   "version": "3.7.12"
  },
  "vscode": {
   "interpreter": {
    "hash": "2f1726c35b44ffc4cacc16afc7320f983cac95a8129364f31bb79e3017d8a2c6"
   }
  }
 },
 "nbformat": 4,
 "nbformat_minor": 4
}
